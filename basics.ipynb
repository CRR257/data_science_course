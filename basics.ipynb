{
 "cells": [
  {
   "cell_type": "code",
   "execution_count": 61,
   "metadata": {},
   "outputs": [],
   "source": [
    "myNumber = 22"
   ]
  },
  {
   "cell_type": "code",
   "execution_count": 62,
   "metadata": {},
   "outputs": [
    {
     "data": {
      "text/plain": [
       "22"
      ]
     },
     "execution_count": 62,
     "metadata": {},
     "output_type": "execute_result"
    }
   ],
   "source": [
    "## we are invoking a variable, to know it's value\n",
    "myNumber"
   ]
  },
  {
   "cell_type": "code",
   "execution_count": 63,
   "metadata": {},
   "outputs": [],
   "source": [
    "myNumber = 50"
   ]
  },
  {
   "cell_type": "code",
   "execution_count": 64,
   "metadata": {},
   "outputs": [
    {
     "data": {
      "text/plain": [
       "50"
      ]
     },
     "execution_count": 64,
     "metadata": {},
     "output_type": "execute_result"
    }
   ],
   "source": [
    "myNumber"
   ]
  },
  {
   "cell_type": "code",
   "execution_count": 65,
   "metadata": {},
   "outputs": [
    {
     "name": "stdout",
     "output_type": "stream",
     "text": [
      "50\n",
      "<class 'int'>\n"
     ]
    }
   ],
   "source": [
    "## print a variable\n",
    "print(myNumber)\n",
    "print(type(myNumber))"
   ]
  },
  {
   "cell_type": "code",
   "execution_count": 66,
   "metadata": {},
   "outputs": [
    {
     "name": "stdout",
     "output_type": "stream",
     "text": [
      "by3\n"
     ]
    }
   ],
   "source": [
    "number2=22\n",
    "number3 = 33\n",
    "\n",
    "#comment in a line!\n",
    "## second comment\n",
    "\n",
    "\"\"\"\n",
    "large comment\n",
    "\"\"\"\n",
    "\n",
    "\n",
    "if number2>number3:\n",
    "  print('22 is not greater than 33')\n",
    "print('by3')"
   ]
  },
  {
   "cell_type": "code",
   "execution_count": 67,
   "metadata": {},
   "outputs": [
    {
     "name": "stdout",
     "output_type": "stream",
     "text": [
      "2\n",
      "2\n",
      "<class 'str'>\n"
     ]
    }
   ],
   "source": [
    "## casting\n",
    "print(int(2.8))\n",
    "print(str(2))\n",
    "print(type(str(2.5)))"
   ]
  },
  {
   "cell_type": "code",
   "execution_count": 1,
   "metadata": {},
   "outputs": [
    {
     "name": "stdout",
     "output_type": "stream",
     "text": [
      "first =>  False\n",
      "second =>  True\n",
      "check lists ==> True\n",
      "check lists ==> False\n"
     ]
    }
   ],
   "source": [
    "x = 5\n",
    "y = '5'\n",
    "\n",
    "y2 = '5'\n",
    "\n",
    "\n",
    "print('first => ', x is y)  ## is => returns true if the two variables are the same object (even in memory)\n",
    "print('second => ', y is y2)\n",
    "\n",
    "abc_list_1 = ['a', 'b', 'c']\n",
    "abc_list_2 = list(abc_list_1)\n",
    "\n",
    "print('check lists ==>', abc_list_1 == abc_list_2)\n",
    "print('check lists ==>', abc_list_1 is abc_list_2) ## list() creates a new list and assigns it to new list in memory (so it's a diff object)"
   ]
  },
  {
   "cell_type": "markdown",
   "metadata": {},
   "source": [
    "\n",
    "List:\n",
    "\n",
    "An ordered collection of elements enclosed in square brackets [].\n",
    "Mutable, allowing you to add, remove, or modify elements.\n",
    "Ideal for dynamic collections where you need to perform operations like appending or removing items.\n",
    "\n",
    "my_list = [1, \"banana\", 3.14]\n",
    "\n",
    "\n",
    "Tuple:\n",
    "An ordered collection of elements enclosed in parentheses ().\n",
    "Immutable, meaning the elements cannot be changed after creation.\n",
    "Suitable when you need a fixed sequence of items that shouldn't be modified.\n",
    "\n",
    "my_tuple = (1, \"apple\", 3.14)\n",
    "\n",
    "\n",
    "Set:\n",
    "An unordered collection of unique elements (cannot contain duplicates) enclosed in curly braces {} or created using the set() constructor.\n",
    "Useful for storing a collection of items where uniqueness is important, and you don't care about the order of elements.\n",
    "\n",
    "my_set = {1, 2, 3, 4, 5}\n",
    "\n",
    "\n",
    "Dictionary:\n",
    "\n",
    "An unordered collection of key-value pairs enclosed in curly braces {key: value} or created using the dict() constructor.\n",
    "Suitable for associating data with specific keys for efficient lookups.\n",
    "\n",
    "my_dict = {\"name\": \"Alice\", \"age\": 25, \"city\": \"Boston\"}"
   ]
  },
  {
   "cell_type": "code",
   "execution_count": null,
   "metadata": {},
   "outputs": [
    {
     "name": "stdout",
     "output_type": "stream",
     "text": [
      "6\n",
      "['pineapple', 'orange', 'x', 'y', 'z']\n",
      "['pineapple', 'orange', 'x', 'y', 'z']\n"
     ]
    }
   ],
   "source": [
    "## select all the elements from a list from x value to the end and create a new list (in a new space of memory)\n",
    "\n",
    "list=['apple', 'pineapple', 'orange', 'x', 'y', 'z']\n",
    "\n",
    "print(len(list))\n",
    "list_copy = list[1:len(list)]\n",
    "list_copy2 = list[1:]\n",
    "print(list_copy)\n",
    "print(list_copy2)"
   ]
  },
  {
   "cell_type": "code",
   "execution_count": null,
   "metadata": {},
   "outputs": [
    {
     "name": "stdout",
     "output_type": "stream",
     "text": [
      "len =>  7\n",
      "max =>  7\n",
      "min =>  1\n",
      "sum =>  28\n",
      " \n",
      "appended 88=> [1, 2, 3, 4, 5, 6, 7, 88]\n",
      "pop => [1, 2, 3, 4, 5, 6, 7]\n",
      "pop position 3 => [1, 2, 3, 5, 6, 7]\n",
      "del => [1, 2, 3, 5, 6]\n",
      "clear => []\n"
     ]
    }
   ],
   "source": [
    "## list\n",
    "\n",
    "numbers_list = [1,2,3,4,5,6,7]\n",
    "\n",
    "print('len => ', len(numbers_list))\n",
    "print('max => ', max(numbers_list))\n",
    "print('min => ', min(numbers_list))\n",
    "print('sum => ', sum(numbers_list)) ## sum all the elements of a list\n",
    "\n",
    "print(' ')\n",
    "numbers_list.append(88)\n",
    "print('appended 88=>', numbers_list)\n",
    "numbers_list.pop()\n",
    "print('pop =>', numbers_list)\n",
    "numbers_list.pop(3)\n",
    "print('pop position 3 =>', numbers_list)\n",
    "del numbers_list[len(numbers_list)-1]\n",
    "print('del =>', numbers_list)\n",
    "\n",
    "numbers_list.clear() ## removes all the elements from the list\n",
    "print('clear =>', numbers_list)\n",
    "\n",
    "del numbers_list  ## removes numbers_list from memory. you would have an error if you call it"
   ]
  },
  {
   "cell_type": "code",
   "execution_count": 8,
   "metadata": {},
   "outputs": [
    {
     "name": "stdout",
     "output_type": "stream",
     "text": [
      "letters ['A', 'B', 'C', 'D']\n",
      "copy ['A', 'B', 'C', 'D']\n",
      "letters is copy_letters => False\n",
      "letters == copy_letters => True\n"
     ]
    }
   ],
   "source": [
    "letters = ['A', 'B', 'C', 'D']\n",
    "copy_letters = letters.copy() ## create a new bucket, but they are not the same object\n",
    "copy_letters_constructor = list(letters) ## create a new bucket using constructor\n",
    "\n",
    "print('letters', letters)\n",
    "print('copy', copy_letters)\n",
    "print('letters is copy_letters =>', letters is copy_letters) ## false bc they are not the same object in memory\n",
    "print('letters == copy_letters =>', letters == copy_letters)"
   ]
  },
  {
   "cell_type": "code",
   "execution_count": 13,
   "metadata": {},
   "outputs": [
    {
     "name": "stdout",
     "output_type": "stream",
     "text": [
      "['a', 'b', 'c', 'd', 'e']\n",
      "<class 'list'>\n",
      "list1 extended ['a', 'b', 'c', 'd', 'e']\n"
     ]
    }
   ],
   "source": [
    "## methods of list()\n",
    "list1 = ['a', 'b', 'c']\n",
    "list2 = ['d', 'e']\n",
    "\n",
    "list3 = list1 + list2 ## + to concatenate lists\n",
    "\n",
    "list1.extend(list2)\n",
    "\n",
    "print(list3)\n",
    "print(type(list3))\n",
    "\n",
    "print('list1 extended', list1)\n"
   ]
  },
  {
   "cell_type": "code",
   "execution_count": 1,
   "metadata": {},
   "outputs": [
    {
     "name": "stdout",
     "output_type": "stream",
     "text": [
      "<class 'tuple'>\n",
      "<class 'tuple'>\n",
      "2\n"
     ]
    }
   ],
   "source": [
    "## Tuples\n",
    "## inmutable (can't delete or modify) and written with ()\n",
    "\n",
    "list_tuple = ('a', 'b', 'c')\n",
    "tuple2 = ('abc', ) ## the , indicates that we want to create a tuple that contains only one element\n",
    "multi_tuple = ('gzs', 'yturw')\n",
    "print(type(tuple2))\n",
    "print(type(multi_tuple))\n",
    "print(len(multi_tuple))"
   ]
  },
  {
   "cell_type": "code",
   "execution_count": 10,
   "metadata": {},
   "outputs": [
    {
     "name": "stdout",
     "output_type": "stream",
     "text": [
      "{'2', '4', '1', '3'}\n",
      "<class 'set'>\n",
      "{'2', '1', '3', '4', 'F'}\n",
      "{'2', '1', '3', '4', 'Z', 'F', 'X'}\n",
      "{'2', '3', '4', 'Z', 'F', 'X'}\n"
     ]
    }
   ],
   "source": [
    "## Set\n",
    "## not ordered (not know what order will appear, not indexing, so not change elements bc we don't have the index of them ) and written with {}\n",
    "### there are no duplicates, so if we try to add an elements that it already exists, it will not be added.\n",
    "\n",
    "my_set = {'1', '2', '3', '4'}\n",
    "print(my_set)\n",
    "print(type(my_set))\n",
    "my_set.add('F') ## to add one element\n",
    "print(my_set)\n",
    "my_set.update({'X', 'Z', 'F', 'F'})\n",
    "print(my_set)\n",
    "my_set.remove('1') ## or my_set.discard('1') => there will be no error if the element is not in the tuple\n",
    "print(my_set)"
   ]
  },
  {
   "cell_type": "code",
   "execution_count": 20,
   "metadata": {},
   "outputs": [
    {
     "name": "stdout",
     "output_type": "stream",
     "text": [
      "{'name': 'Floc', 'breed': 'Maine coon', 'age': 4, 'favourite_food': 'chicken'}\n",
      "4\n",
      "Floc and he is 4\n",
      "{'name': 'Floc', 'breed': 'Maine coon', 'age': 5, 'favourite_food': ['chciken', 'tuna']}\n",
      "{'name': 'Floc', 'breed': 'Maine coon', 'age': 5, 'favourite_food': ['chciken', 'tuna', 'ham']}\n"
     ]
    }
   ],
   "source": [
    "## Dictionaries\n",
    "## not ordered (not know what order will appear) and written with {}\n",
    "### they are indexed => modifiable. can't be duplicated keys\n",
    "\n",
    "my_dictionary = {\n",
    "  \"name\": 'Floc',\n",
    "  \"breed\": \"Maine coon\",\n",
    "  \"age\": 4,\n",
    "  \"favourite_food\": 'chicken'\n",
    "}\n",
    "\n",
    "print(my_dictionary)\n",
    "print(my_dictionary[\"age\"])\n",
    "print(my_dictionary['name'], 'and he is', my_dictionary['age'])\n",
    "my_dictionary[\"age\"] = 5\n",
    "my_dictionary['favourite_food']= ['chciken', 'tuna']\n",
    "print(my_dictionary)\n",
    "my_dictionary['favourite_food'].append('ham')\n",
    "print(my_dictionary)\n"
   ]
  },
  {
   "cell_type": "code",
   "execution_count": 25,
   "metadata": {},
   "outputs": [
    {
     "name": "stdout",
     "output_type": "stream",
     "text": [
      "Bru\n",
      " \n",
      "{'cats_1': {'cat1': {'name': 'Floc', 'age': 4}, 'cat2': {'name': 'Bru', 'age': 11}, 'cat3': {'name': 'Jofre', 'age': 6}}, 'cats_2': {'name': 'Gal.la', 'age': 10}}\n"
     ]
    }
   ],
   "source": [
    "## Nested dictionaries\n",
    "\n",
    "cats = {\n",
    "  \"cat1\": {\n",
    "    \"name\": 'Floc',\n",
    "    \"age\": 4\n",
    "  } ,\n",
    "   \"cat2\": {\n",
    "    \"name\": 'Bru',\n",
    "    \"age\": 11\n",
    "  },\n",
    "    \"cat3\": {\n",
    "    \"name\": 'Jofre',\n",
    "    \"age\": 6\n",
    "  }  \n",
    "}\n",
    "\n",
    "print(cats[\"cat2\"][\"name\"])\n",
    "print(\" \")\n",
    "\n",
    "## Nested dictionaries created from existing dictionaries\n",
    "\n",
    "cat4 = {\n",
    "  \"name\": \"Gal.la\",\n",
    "  \"age\": 10\n",
    "}\n",
    "my_cats = {\n",
    "  \"cats_1\": cats,\n",
    "  \"cats_2\": cat4\n",
    "}\n",
    "\n",
    "print(my_cats)"
   ]
  }
 ],
 "metadata": {
  "kernelspec": {
   "display_name": "Python 3",
   "language": "python",
   "name": "python3"
  },
  "language_info": {
   "codemirror_mode": {
    "name": "ipython",
    "version": 3
   },
   "file_extension": ".py",
   "mimetype": "text/x-python",
   "name": "python",
   "nbconvert_exporter": "python",
   "pygments_lexer": "ipython3",
   "version": "3.10.12"
  }
 },
 "nbformat": 4,
 "nbformat_minor": 2
}
