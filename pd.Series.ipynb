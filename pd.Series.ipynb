{
 "cells": [
  {
   "cell_type": "code",
   "execution_count": 1,
   "id": "fa4c68ba",
   "metadata": {},
   "outputs": [],
   "source": [
    "import numpy as np\n",
    "import pandas as pd"
   ]
  },
  {
   "cell_type": "code",
   "execution_count": 2,
   "id": "68838dab",
   "metadata": {},
   "outputs": [
    {
     "name": "stdout",
     "output_type": "stream",
     "text": [
      "0    a\n",
      "1    b\n",
      "2    c\n",
      "3    d\n",
      "4    e\n",
      "5    f\n",
      "dtype: object\n"
     ]
    }
   ],
   "source": [
    "letters = ['a', 'b', 'c', 'd', 'e', 'f']\n",
    "series = pd.Series(letters)\n",
    "\n",
    "print(series)"
   ]
  },
  {
   "cell_type": "code",
   "execution_count": 3,
   "id": "e4d91400",
   "metadata": {},
   "outputs": [
    {
     "name": "stdout",
     "output_type": "stream",
     "text": [
      "0    0\n",
      "1    1\n",
      "2    2\n",
      "3    3\n",
      "4    4\n",
      "5    5\n",
      "6    6\n",
      "7    7\n",
      "8    8\n",
      "9    9\n",
      "dtype: int64\n"
     ]
    }
   ],
   "source": [
    "arr = np.arange(10)\n",
    "\n",
    "series = pd.Series(arr)\n",
    "print(series)"
   ]
  },
  {
   "cell_type": "code",
   "execution_count": 4,
   "id": "3a1d2894",
   "metadata": {},
   "outputs": [
    {
     "name": "stdout",
     "output_type": "stream",
     "text": [
      "['A', 'B', 'C', 'D', 'E']\n",
      "A     2\n",
      "B     3\n",
      "C     4\n",
      "D     5\n",
      "E    10\n",
      "dtype: int64\n"
     ]
    }
   ],
   "source": [
    "letter_dict = {\"A\": 2, \"B\": 3, \"C\": 4, \"D\": 5, \"E\": 10}\n",
    "labels = list(\"ABCDE\")\n",
    "\n",
    "\n",
    "print(labels)\n",
    "series = pd.Series(letter_dict)\n",
    "series.index = labels\n",
    "\n",
    "print(series)"
   ]
  },
  {
   "cell_type": "code",
   "execution_count": 5,
   "id": "fa972c17",
   "metadata": {},
   "outputs": [
    {
     "name": "stdout",
     "output_type": "stream",
     "text": [
      "['pd1', 'pd2', 'pd3', 'pd4', 'pd5']\n",
      "pd1     2\n",
      "pd2     3\n",
      "pd3     4\n",
      "pd4     5\n",
      "pd5    10\n",
      "dtype: int64\n"
     ]
    }
   ],
   "source": [
    "letter_dict_2 = {\"pd1\": 2, \"pd2\": 3, \"pd3\": 4, \"pd4\": 5, \"pd5\": 10}\n",
    "labels_2 = ['pd1', 'pd2', 'pd3', 'pd4', 'pd5']\n",
    "\n",
    "\n",
    "print(labels_2)\n",
    "series_2 = pd.Series(letter_dict_2, index = labels_2)\n",
    "\n",
    "print(series_2)"
   ]
  },
  {
   "cell_type": "code",
   "execution_count": 6,
   "id": "cf331a1b",
   "metadata": {},
   "outputs": [
    {
     "name": "stdout",
     "output_type": "stream",
     "text": [
      "pd1     2\n",
      "pd2     3\n",
      "pd3     4\n",
      "pd4     5\n",
      "pd5    10\n",
      "dtype: int64\n"
     ]
    }
   ],
   "source": [
    "series.name = \"My letters dict\"\n",
    "\n",
    "print(series_2)"
   ]
  },
  {
   "cell_type": "code",
   "execution_count": 7,
   "id": "0da37a8b",
   "metadata": {},
   "outputs": [
    {
     "name": "stdout",
     "output_type": "stream",
     "text": [
      "Minimum 2\n",
      "25th Percentile: 3.0\n",
      "Median 4.0\n",
      "75th Percentile: 5.0\n",
      "Maximum 10\n"
     ]
    }
   ],
   "source": [
    "print(\"Minimum\", series.min())\n",
    "print(\"25th Percentile:\", series.quantile(q = 0.25))\n",
    "print(\"Median\", series.median())\n",
    "print(\"75th Percentile:\", series.quantile(q=0.75))\n",
    "print(\"Maximum\", series.max())"
   ]
  },
  {
   "cell_type": "code",
   "execution_count": 8,
   "id": "a9acc08e",
   "metadata": {},
   "outputs": [
    {
     "name": "stdout",
     "output_type": "stream",
     "text": [
      "0    1\n",
      "1    2\n",
      "2    3\n",
      "3    4\n",
      "4    5\n",
      "5    6\n",
      "dtype: int64\n",
      "0     7\n",
      "1     8\n",
      "2     9\n",
      "3    10\n",
      "4    11\n",
      "5    12\n",
      "dtype: int64\n"
     ]
    },
    {
     "data": {
      "text/html": [
       "<div>\n",
       "<style scoped>\n",
       "    .dataframe tbody tr th:only-of-type {\n",
       "        vertical-align: middle;\n",
       "    }\n",
       "\n",
       "    .dataframe tbody tr th {\n",
       "        vertical-align: top;\n",
       "    }\n",
       "\n",
       "    .dataframe thead th {\n",
       "        text-align: right;\n",
       "    }\n",
       "</style>\n",
       "<table border=\"1\" class=\"dataframe\">\n",
       "  <thead>\n",
       "    <tr style=\"text-align: right;\">\n",
       "      <th></th>\n",
       "      <th>0</th>\n",
       "      <th>1</th>\n",
       "    </tr>\n",
       "  </thead>\n",
       "  <tbody>\n",
       "    <tr>\n",
       "      <th>0</th>\n",
       "      <td>1</td>\n",
       "      <td>7</td>\n",
       "    </tr>\n",
       "    <tr>\n",
       "      <th>1</th>\n",
       "      <td>2</td>\n",
       "      <td>8</td>\n",
       "    </tr>\n",
       "    <tr>\n",
       "      <th>2</th>\n",
       "      <td>3</td>\n",
       "      <td>9</td>\n",
       "    </tr>\n",
       "    <tr>\n",
       "      <th>3</th>\n",
       "      <td>4</td>\n",
       "      <td>10</td>\n",
       "    </tr>\n",
       "    <tr>\n",
       "      <th>4</th>\n",
       "      <td>5</td>\n",
       "      <td>11</td>\n",
       "    </tr>\n",
       "    <tr>\n",
       "      <th>5</th>\n",
       "      <td>6</td>\n",
       "      <td>12</td>\n",
       "    </tr>\n",
       "  </tbody>\n",
       "</table>\n",
       "</div>"
      ],
      "text/plain": [
       "   0   1\n",
       "0  1   7\n",
       "1  2   8\n",
       "2  3   9\n",
       "3  4  10\n",
       "4  5  11\n",
       "5  6  12"
      ]
     },
     "execution_count": 8,
     "metadata": {},
     "output_type": "execute_result"
    }
   ],
   "source": [
    "a = np.array([1,2,3,4,5,6,])\n",
    "b = np.array([7,8,9,10,11,12])\n",
    "\n",
    "series_a = pd.Series(a)\n",
    "series_b = pd.Series(b)\n",
    "\n",
    "print(series_a)\n",
    "print(series_b)\n",
    "\n",
    "concatenated_series = pd.concat([series_a, series_b], axis = 1)\n",
    "concatenated_series"
   ]
  },
  {
   "cell_type": "code",
   "execution_count": 9,
   "id": "382ad5d0",
   "metadata": {},
   "outputs": [
    {
     "data": {
      "text/plain": [
       "0      1\n",
       "1      2\n",
       "2      3\n",
       "3      4\n",
       "4      5\n",
       "5      6\n",
       "6      7\n",
       "7      8\n",
       "8      9\n",
       "9     10\n",
       "10    11\n",
       "11    12\n",
       "dtype: int64"
      ]
     },
     "execution_count": 9,
     "metadata": {},
     "output_type": "execute_result"
    }
   ],
   "source": [
    "concatenated_series_ignored_index = pd.concat([series_a, series_b], axis = 0, ignore_index=True)\n",
    "concatenated_series_ignored_index"
   ]
  },
  {
   "cell_type": "code",
   "execution_count": 10,
   "id": "ad3b9c26",
   "metadata": {},
   "outputs": [
    {
     "name": "stdout",
     "output_type": "stream",
     "text": [
      "0             how\n",
      "1              do\n",
      "2             you\n",
      "3          master\n",
      "4          python\n",
      "5    programming?\n",
      "dtype: object\n"
     ]
    },
    {
     "data": {
      "text/plain": [
       "0             How\n",
       "1              Do\n",
       "2             You\n",
       "3          Master\n",
       "4          Python\n",
       "5    Programming?\n",
       "dtype: object"
      ]
     },
     "execution_count": 10,
     "metadata": {},
     "output_type": "execute_result"
    }
   ],
   "source": [
    "py_title = pd.Series(['how', 'do', 'you', 'master', 'python', 'programming?'])\n",
    "py_title_2 = pd.Series(['how', 'do', 'you', 'master', 'python', 'programming?'])\n",
    "print(py_title_2)\n",
    "py_title.str.title()"
   ]
  },
  {
   "cell_type": "code",
   "execution_count": 11,
   "id": "a5dfc04f",
   "metadata": {},
   "outputs": [
    {
     "data": {
      "text/plain": [
       "0             How\n",
       "1              Do\n",
       "2             You\n",
       "3          Master\n",
       "4          Python\n",
       "5    Programming?\n",
       "dtype: object"
      ]
     },
     "execution_count": 11,
     "metadata": {},
     "output_type": "execute_result"
    }
   ],
   "source": [
    "py_title.map(lambda x:x.title())"
   ]
  },
  {
   "cell_type": "code",
   "execution_count": 12,
   "id": "bd572f5c",
   "metadata": {},
   "outputs": [
    {
     "data": {
      "text/plain": [
       "0             How\n",
       "1              Do\n",
       "2             You\n",
       "3          Master\n",
       "4          Python\n",
       "5    Programming?\n",
       "dtype: object"
      ]
     },
     "execution_count": 12,
     "metadata": {},
     "output_type": "execute_result"
    }
   ],
   "source": [
    "pd.Series([i.title() for i in py_title])"
   ]
  },
  {
   "cell_type": "code",
   "execution_count": 13,
   "id": "2e791fd6",
   "metadata": {},
   "outputs": [
    {
     "data": {
      "text/plain": [
       "0     3\n",
       "1     2\n",
       "2     3\n",
       "3     6\n",
       "4     6\n",
       "5    12\n",
       "dtype: int64"
      ]
     },
     "execution_count": 13,
     "metadata": {},
     "output_type": "execute_result"
    }
   ],
   "source": [
    "#Calculte length of each element of the series\n",
    "py_title.map(lambda x:len(x))"
   ]
  },
  {
   "cell_type": "code",
   "execution_count": 14,
   "id": "cbc9fe7e",
   "metadata": {},
   "outputs": [
    {
     "data": {
      "text/plain": [
       "How              3\n",
       "Do               2\n",
       "You              3\n",
       "Master           6\n",
       "Python           6\n",
       "Programming?    12\n",
       "dtype: int64"
      ]
     },
     "execution_count": 14,
     "metadata": {},
     "output_type": "execute_result"
    }
   ],
   "source": [
    "pd.Series([len(i) for i in py_title], index=py_title.str.title())"
   ]
  }
 ],
 "metadata": {
  "kernelspec": {
   "display_name": "Python 3 (ipykernel)",
   "language": "python",
   "name": "python3"
  },
  "language_info": {
   "codemirror_mode": {
    "name": "ipython",
    "version": 3
   },
   "file_extension": ".py",
   "mimetype": "text/x-python",
   "name": "python",
   "nbconvert_exporter": "python",
   "pygments_lexer": "ipython3",
   "version": "3.9.6"
  }
 },
 "nbformat": 4,
 "nbformat_minor": 5
}
